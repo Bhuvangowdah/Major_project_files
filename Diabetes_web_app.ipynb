{
  "cells": [
    {
      "cell_type": "code",
      "execution_count": null,
      "metadata": {
        "id": "eC5KkI4c3qMl"
      },
      "outputs": [],
      "source": [
        "!pip install streamlit --quiet # Installing the streamlit library"
      ]
    },
    {
      "cell_type": "code",
      "execution_count": null,
      "metadata": {
        "colab": {
          "base_uri": "https://localhost:8080/"
        },
        "id": "N4ZASeb44MxQ",
        "outputId": "93bf140a-47a1-44f9-a3f4-4dbc17c7e8b3"
      },
      "outputs": [
        {
          "output_type": "stream",
          "name": "stdout",
          "text": [
            "Writing app.py\n"
          ]
        }
      ],
      "source": [
        "%%writefile app.py\n",
        "import numpy as np\n",
        "\n",
        "import joblib\n",
        "import streamlit as st\n",
        "\n",
        "\n",
        "# loading the saved model\n",
        "loaded_model = joblib.load('Test_diabetes')\n",
        "\n",
        "\n",
        "# creating a function for Prediction\n",
        "\n",
        "def diabetes_prediction(input_data):\n",
        "    \n",
        "\n",
        "    # changing the input_data to numpy array\n",
        "    input_data_as_numpy_array = np.asarray(input_data)\n",
        "\n",
        "    # reshape the array as we are predicting for one instance\n",
        "    input_data_reshaped = input_data_as_numpy_array.reshape(1,-1)\n",
        "\n",
        "    prediction = loaded_model.predict(input_data_reshaped)\n",
        "    print(prediction)\n",
        "\n",
        "    if (prediction[0] == 0):\n",
        "      return 'The person is not diabetic'\n",
        "    else:\n",
        "      return 'The person is diabetic'\n",
        "  \n",
        "    \n",
        "  \n",
        "def main():\n",
        "    \n",
        "    \n",
        "    # giving a title\n",
        "    st.title('Diabetes Prediction Web App')\n",
        "    \n",
        "    \n",
        "    # getting the input data from the user\n",
        "    \n",
        "    \n",
        "    Pregnancies = st.text_input('Number of Pregnancies')\n",
        "    Glucose = st.text_input('Glucose Level')\n",
        "    BloodPressure = st.text_input('Blood Pressure value')\n",
        "    SkinThickness = st.text_input('Skin Thickness value')\n",
        "    Insulin = st.text_input('Insulin Level')\n",
        "    BMI = st.text_input('BMI value')\n",
        "    DiabetesPedigreeFunction = st.text_input('Diabetes Pedigree Function value')\n",
        "    Age = st.text_input('Age of the Person')\n",
        "    \n",
        "    \n",
        "    # code for Prediction\n",
        "    diagnosis = ''\n",
        "    \n",
        "    # creating a button for Prediction\n",
        "    \n",
        "    if st.button('Diabetes Test Result'):\n",
        "        diagnosis = diabetes_prediction([Pregnancies, Glucose, BloodPressure, SkinThickness, Insulin, BMI, DiabetesPedigreeFunction, Age])\n",
        "        \n",
        "       \n",
        "    st.success(diagnosis)\n",
        "    \n",
        "    \n",
        "if __name__ == '__main__':\n",
        "    main()\n",
        "    \n",
        "    "
      ]
    },
    {
      "cell_type": "code",
      "execution_count": null,
      "metadata": {
        "colab": {
          "background_save": true,
          "base_uri": "https://localhost:8080/"
        },
        "id": "6V30GxK16Asn",
        "outputId": "d5572a7e-2341-4ff2-9d8e-dd14c56968fe"
      },
      "outputs": [
        {
          "output_type": "stream",
          "name": "stdout",
          "text": [
            "/bin/bash: streamlit: command not found\n",
            "\u001b[K\u001b[?25hnpx: installed 22 in 3.744s\n",
            "your url is: https://fair-rings-bathe-35-227-66-112.loca.lt\n"
          ]
        }
      ],
      "source": [
        "#TEMPORARY DEPLOYMENT\n",
        "!streamlit run app.py & npx localtunnel --port 8501\n",
        "#8501 is the default port number for local tunnel"
      ]
    }
  ],
  "metadata": {
    "colab": {
      "name": "Diabetes_web_app.ipynb",
      "provenance": []
    },
    "kernelspec": {
      "display_name": "Python 3",
      "name": "python3"
    },
    "language_info": {
      "name": "python"
    }
  },
  "nbformat": 4,
  "nbformat_minor": 0
}